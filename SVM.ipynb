{
 "cells": [
  {
   "attachments": {},
   "cell_type": "markdown",
   "metadata": {},
   "source": [
    "## Start the Docker container"
   ]
  },
  {
   "attachments": {},
   "cell_type": "markdown",
   "metadata": {},
   "source": [
    "### Run the following commands:\n",
    "docker run -it --rm -p 8888:8888 -v /Users/sylvain/Data_Science/Kaggle/competition_titanic/datasets:/home/jovyan/datasets jupyter-server"
   ]
  },
  {
   "cell_type": "code",
   "execution_count": 44,
   "metadata": {},
   "outputs": [],
   "source": [
    "from sklearn.model_selection import train_test_split\n",
    "\n",
    "import pandas as pd\n",
    "import numpy as np\n",
    "import matplotlib as plt"
   ]
  },
  {
   "attachments": {},
   "cell_type": "markdown",
   "metadata": {},
   "source": [
    "### Load the datasets"
   ]
  },
  {
   "cell_type": "code",
   "execution_count": 45,
   "metadata": {},
   "outputs": [],
   "source": [
    "# Train dataset\n",
    "df_train = pd.read_csv(\n",
    "\tfilepath_or_buffer=\"datasets/train_clean.csv\",\n",
    " index_col=0\n",
    ")\n",
    "\n",
    "# Test dataset\n",
    "df_test = pd.read_csv(\n",
    "\tfilepath_or_buffer=\"datasets/test_clean.csv\",\n",
    " index_col=0\n",
    ")"
   ]
  },
  {
   "attachments": {},
   "cell_type": "markdown",
   "metadata": {},
   "source": [
    "### Create the train and test dataframes"
   ]
  },
  {
   "cell_type": "code",
   "execution_count": 46,
   "metadata": {},
   "outputs": [],
   "source": [
    "# create the features and target datasets\n",
    "features = df_train.copy()\n",
    "features.drop(labels=\"Survived\", axis=1, inplace=True)\n",
    "target = df_train.loc[:,\"Survived\"].copy()\n",
    "# create the train and test datasets\n",
    "x_train, x_test, y_train, y_test = train_test_split(features, target, test_size=0.25, random_state=42)"
   ]
  },
  {
   "cell_type": "code",
   "execution_count": 47,
   "metadata": {},
   "outputs": [
    {
     "data": {
      "text/html": [
       "<div>\n",
       "<style scoped>\n",
       "    .dataframe tbody tr th:only-of-type {\n",
       "        vertical-align: middle;\n",
       "    }\n",
       "\n",
       "    .dataframe tbody tr th {\n",
       "        vertical-align: top;\n",
       "    }\n",
       "\n",
       "    .dataframe thead th {\n",
       "        text-align: right;\n",
       "    }\n",
       "</style>\n",
       "<table border=\"1\" class=\"dataframe\">\n",
       "  <thead>\n",
       "    <tr style=\"text-align: right;\">\n",
       "      <th></th>\n",
       "      <th>Survived</th>\n",
       "      <th>Sex_female</th>\n",
       "      <th>Sex_male</th>\n",
       "      <th>Embarked_C</th>\n",
       "      <th>Embarked_Q</th>\n",
       "      <th>Embarked_S</th>\n",
       "      <th>siblings</th>\n",
       "      <th>couple</th>\n",
       "      <th>firstClass</th>\n",
       "      <th>secondClass</th>\n",
       "      <th>thirdClass</th>\n",
       "      <th>kid</th>\n",
       "      <th>young_adult</th>\n",
       "      <th>mature_adult</th>\n",
       "      <th>senior</th>\n",
       "      <th>low_fare</th>\n",
       "      <th>medium_fare</th>\n",
       "      <th>high_fare</th>\n",
       "    </tr>\n",
       "    <tr>\n",
       "      <th>PassengerId</th>\n",
       "      <th></th>\n",
       "      <th></th>\n",
       "      <th></th>\n",
       "      <th></th>\n",
       "      <th></th>\n",
       "      <th></th>\n",
       "      <th></th>\n",
       "      <th></th>\n",
       "      <th></th>\n",
       "      <th></th>\n",
       "      <th></th>\n",
       "      <th></th>\n",
       "      <th></th>\n",
       "      <th></th>\n",
       "      <th></th>\n",
       "      <th></th>\n",
       "      <th></th>\n",
       "      <th></th>\n",
       "    </tr>\n",
       "  </thead>\n",
       "  <tbody>\n",
       "    <tr>\n",
       "      <th>1</th>\n",
       "      <td>0</td>\n",
       "      <td>0</td>\n",
       "      <td>1</td>\n",
       "      <td>0</td>\n",
       "      <td>0</td>\n",
       "      <td>1</td>\n",
       "      <td>1</td>\n",
       "      <td>0</td>\n",
       "      <td>0</td>\n",
       "      <td>0</td>\n",
       "      <td>1</td>\n",
       "      <td>0</td>\n",
       "      <td>1</td>\n",
       "      <td>0</td>\n",
       "      <td>0</td>\n",
       "      <td>1</td>\n",
       "      <td>0</td>\n",
       "      <td>0</td>\n",
       "    </tr>\n",
       "    <tr>\n",
       "      <th>2</th>\n",
       "      <td>1</td>\n",
       "      <td>1</td>\n",
       "      <td>0</td>\n",
       "      <td>1</td>\n",
       "      <td>0</td>\n",
       "      <td>0</td>\n",
       "      <td>1</td>\n",
       "      <td>0</td>\n",
       "      <td>1</td>\n",
       "      <td>0</td>\n",
       "      <td>0</td>\n",
       "      <td>0</td>\n",
       "      <td>0</td>\n",
       "      <td>1</td>\n",
       "      <td>0</td>\n",
       "      <td>0</td>\n",
       "      <td>1</td>\n",
       "      <td>0</td>\n",
       "    </tr>\n",
       "    <tr>\n",
       "      <th>3</th>\n",
       "      <td>1</td>\n",
       "      <td>1</td>\n",
       "      <td>0</td>\n",
       "      <td>0</td>\n",
       "      <td>0</td>\n",
       "      <td>1</td>\n",
       "      <td>0</td>\n",
       "      <td>0</td>\n",
       "      <td>0</td>\n",
       "      <td>0</td>\n",
       "      <td>1</td>\n",
       "      <td>0</td>\n",
       "      <td>1</td>\n",
       "      <td>0</td>\n",
       "      <td>0</td>\n",
       "      <td>1</td>\n",
       "      <td>0</td>\n",
       "      <td>0</td>\n",
       "    </tr>\n",
       "    <tr>\n",
       "      <th>4</th>\n",
       "      <td>1</td>\n",
       "      <td>1</td>\n",
       "      <td>0</td>\n",
       "      <td>0</td>\n",
       "      <td>0</td>\n",
       "      <td>1</td>\n",
       "      <td>1</td>\n",
       "      <td>0</td>\n",
       "      <td>1</td>\n",
       "      <td>0</td>\n",
       "      <td>0</td>\n",
       "      <td>0</td>\n",
       "      <td>1</td>\n",
       "      <td>0</td>\n",
       "      <td>0</td>\n",
       "      <td>0</td>\n",
       "      <td>1</td>\n",
       "      <td>0</td>\n",
       "    </tr>\n",
       "    <tr>\n",
       "      <th>5</th>\n",
       "      <td>0</td>\n",
       "      <td>0</td>\n",
       "      <td>1</td>\n",
       "      <td>0</td>\n",
       "      <td>0</td>\n",
       "      <td>1</td>\n",
       "      <td>0</td>\n",
       "      <td>0</td>\n",
       "      <td>0</td>\n",
       "      <td>0</td>\n",
       "      <td>1</td>\n",
       "      <td>0</td>\n",
       "      <td>1</td>\n",
       "      <td>0</td>\n",
       "      <td>0</td>\n",
       "      <td>1</td>\n",
       "      <td>0</td>\n",
       "      <td>0</td>\n",
       "    </tr>\n",
       "  </tbody>\n",
       "</table>\n",
       "</div>"
      ],
      "text/plain": [
       "             Survived  Sex_female  Sex_male  Embarked_C  Embarked_Q  \\\n",
       "PassengerId                                                           \n",
       "1                   0           0         1           0           0   \n",
       "2                   1           1         0           1           0   \n",
       "3                   1           1         0           0           0   \n",
       "4                   1           1         0           0           0   \n",
       "5                   0           0         1           0           0   \n",
       "\n",
       "             Embarked_S  siblings  couple  firstClass  secondClass  \\\n",
       "PassengerId                                                          \n",
       "1                     1         1       0           0            0   \n",
       "2                     0         1       0           1            0   \n",
       "3                     1         0       0           0            0   \n",
       "4                     1         1       0           1            0   \n",
       "5                     1         0       0           0            0   \n",
       "\n",
       "             thirdClass  kid  young_adult  mature_adult  senior  low_fare  \\\n",
       "PassengerId                                                                 \n",
       "1                     1    0            1             0       0         1   \n",
       "2                     0    0            0             1       0         0   \n",
       "3                     1    0            1             0       0         1   \n",
       "4                     0    0            1             0       0         0   \n",
       "5                     1    0            1             0       0         1   \n",
       "\n",
       "             medium_fare  high_fare  \n",
       "PassengerId                          \n",
       "1                      0          0  \n",
       "2                      1          0  \n",
       "3                      0          0  \n",
       "4                      1          0  \n",
       "5                      0          0  "
      ]
     },
     "execution_count": 47,
     "metadata": {},
     "output_type": "execute_result"
    }
   ],
   "source": [
    "df_train.head()"
   ]
  },
  {
   "attachments": {},
   "cell_type": "markdown",
   "metadata": {},
   "source": [
    "### Create and fit the model"
   ]
  },
  {
   "cell_type": "code",
   "execution_count": 48,
   "metadata": {},
   "outputs": [
    {
     "data": {
      "text/plain": [
       "{'C': 0.3,\n",
       " 'decision_function_shape': 'ovo',\n",
       " 'gamma': 'scale',\n",
       " 'kernel': 'poly'}"
      ]
     },
     "execution_count": 48,
     "metadata": {},
     "output_type": "execute_result"
    }
   ],
   "source": [
    "from sklearn.svm import SVC\n",
    "from sklearn.model_selection import GridSearchCV\n",
    "\n",
    "hyperParameter = [{\n",
    "    \"C\": [0.3, 1, 3],\n",
    "    \"kernel\": [\"linear\", \"rbf\", \"poly\"],\n",
    "    \"gamma\": [\"scale\", \"auto\"],\n",
    "    \"decision_function_shape\": [\"ovo\", \"ovr\"],\n",
    "}]\n",
    "\n",
    "svmEstimator = SVC()\n",
    "\n",
    "svm_cv = GridSearchCV(\n",
    "\testimator=svmEstimator,\n",
    "\tparam_grid=hyperParameter,\n",
    " \tcv=8,\n",
    "  \tscoring=\"accuracy\",\n",
    "   \tverbose=0,\n",
    ")\n",
    "\n",
    "svm_cv.fit(X=x_train, y=y_train)\n",
    "svm_cv.best_params_\n"
   ]
  },
  {
   "cell_type": "code",
   "execution_count": 49,
   "metadata": {},
   "outputs": [
    {
     "data": {
      "text/plain": [
       "0.820627802690583"
      ]
     },
     "execution_count": 49,
     "metadata": {},
     "output_type": "execute_result"
    }
   ],
   "source": [
    "model = SVC(\n",
    "    C=0.3,\n",
    " \tdecision_function_shape=\"ovo\",\n",
    "\tgamma=\"scale\",\n",
    "\tkernel=\"poly\",\n",
    "\t\n",
    ")\n",
    "\n",
    "model.fit(X=x_train, y=y_train)\n",
    "\n",
    "ypred = model.predict(X=x_test)\n",
    "\n",
    "model.score(X=x_test, y=y_test)"
   ]
  },
  {
   "attachments": {},
   "cell_type": "markdown",
   "metadata": {},
   "source": [
    "<h3>Make a prediction for the competition</h3>"
   ]
  },
  {
   "cell_type": "code",
   "execution_count": 50,
   "metadata": {},
   "outputs": [],
   "source": [
    "# fit the model with the whole dataset\n",
    "model.fit(X=features, y=target)\n",
    "\n",
    "# save it in a DataFrame\n",
    "prediction = pd.DataFrame(data={\n",
    "    \"PassengerId\": df_test.index,\n",
    "    \"Survived\": model.predict(X=df_test),\n",
    "    })\n",
    "\n",
    "# save the prediction\n",
    "prediction.to_csv(path_or_buf=\"datasets/prediction_SVM.csv\", index=False)"
   ]
  }
 ],
 "metadata": {
  "kernelspec": {
   "display_name": ".venv",
   "language": "python",
   "name": "python3"
  },
  "language_info": {
   "codemirror_mode": {
    "name": "ipython",
    "version": 3
   },
   "file_extension": ".py",
   "mimetype": "text/x-python",
   "name": "python",
   "nbconvert_exporter": "python",
   "pygments_lexer": "ipython3",
   "version": "3.10.7"
  },
  "orig_nbformat": 4,
  "vscode": {
   "interpreter": {
    "hash": "0ace9aa8434a9d5c5c6a8052162ba46c76a6a3f3d25e308a1c145b34237d17b0"
   }
  }
 },
 "nbformat": 4,
 "nbformat_minor": 2
}
