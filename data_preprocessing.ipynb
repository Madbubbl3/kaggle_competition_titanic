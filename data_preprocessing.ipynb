{
 "cells": [
  {
   "attachments": {},
   "cell_type": "markdown",
   "metadata": {},
   "source": [
    "## Start the Docker container"
   ]
  },
  {
   "attachments": {},
   "cell_type": "markdown",
   "metadata": {},
   "source": [
    "### Run the following commands:\n",
    "docker run -it --rm -p 8888:8888 -v /Users/sylvain/Data_Science/Kaggle/competition_titanic/datasets:/home/jovyan/datasets jupyter-server"
   ]
  },
  {
   "cell_type": "code",
   "execution_count": 271,
   "metadata": {},
   "outputs": [],
   "source": [
    "from sklearn.preprocessing import OneHotEncoder\n",
    "from sklearn.model_selection import train_test_split\n",
    "from sklearn.preprocessing import StandardScaler\n",
    "\n",
    "import tensorflow as tf\n",
    "from tensorflow import keras\n",
    "from keras import layers\n",
    "from keras.callbacks import EarlyStopping\n",
    "\n",
    "import pandas as pd\n",
    "import numpy as np\n",
    "import matplotlib as plt"
   ]
  },
  {
   "attachments": {},
   "cell_type": "markdown",
   "metadata": {},
   "source": [
    "<h3>Data preprocessing"
   ]
  },
  {
   "cell_type": "code",
   "execution_count": 272,
   "metadata": {},
   "outputs": [],
   "source": [
    "def cleanData(df):\n",
    "    \n",
    "    # Replace the value of the missing \"Embarked\" by \"S\" (the most common)\n",
    "    df.loc[df.loc[:,\"Embarked\"].isna(), \"Embarked\"] = df.loc[df.loc[:,\"Embarked\"].isna(), \"Embarked\"].apply(lambda x: \"S\")\n",
    "    # Replace the missing pclass value with the most common one\n",
    "    df.loc[df.loc[:,\"Pclass\"].isna(), \"Pclass\"] = df.loc[df.loc[:,\"Pclass\"].isna(), \"Pclass\"].apply(lambda x: 3)\n",
    "    # Replace the missing Fare values with the mean one\n",
    "    df.loc[df.loc[:,\"Fare\"].isna(), \"Fare\"] = df.loc[df.loc[:,\"Fare\"].isna(), \"Fare\"].apply(lambda x:df.loc[:,\"Fare\"].mean())\n",
    "    # fill the missing age values\n",
    "    df.loc[df.loc[:,\"Age\"].isna(), \"Age\"] = df.loc[df.loc[:,\"Age\"].isna(), \"Age\"].apply(lambda x: df.loc[:,\"Age\"].mean())\n",
    "    # df = guessAge(df=df)\n",
    "    \n",
    "    # drop Name, Ticket and Cabin\n",
    "    df.drop(\n",
    "        labels=[\"Name\", \"Ticket\", \"Cabin\"],\n",
    "        inplace=True,\n",
    "        axis=1\n",
    "        ) \n",
    "\n",
    "    # replace Sex and Embarked with dummy variables\n",
    "    df = pd.get_dummies(data=df)\n",
    "    \n",
    "    return df"
   ]
  },
  {
   "cell_type": "code",
   "execution_count": 273,
   "metadata": {},
   "outputs": [],
   "source": [
    "def scaleData(df=pd.DataFrame):\n",
    "\t'''\n",
    " \tThis function will scale the columns of the data Frame which are not binary and return it\n",
    "  \t'''\n",
    "\tcolumnsName = df.columns\n",
    "\tindexName = df.index\n",
    "\tscaler = StandardScaler()\n",
    "\tscaledColumns = pd.DataFrame(scaler.fit_transform(X=df.loc[:, [\"Age\", \"Fare\"]]), columns=[\"Age\", \"Fare\"], index=indexName)\n",
    "\t\n",
    "\treturn df"
   ]
  },
  {
   "cell_type": "code",
   "execution_count": 274,
   "metadata": {},
   "outputs": [],
   "source": [
    "def featureEngineering_1(df:pd.DataFrame):\n",
    "    \n",
    "\t# define the helper functions\n",
    "\tdef isClassMember(x, classTicket):\n",
    "\t\tif x == classTicket:\n",
    "\t\t\treturn 1\n",
    "\t\treturn 0\n",
    "\n",
    "\tdef singleOrCouple(x):\n",
    "\t\tif x>0:\n",
    "\t\t\treturn 1\n",
    "\t\treturn 0\n",
    "\n",
    "\tdef oneOrMore(x):\n",
    "\t\tif x>0:\n",
    "\t\t\treturn 1\n",
    "\t\treturn 0\n",
    "\n",
    "\t# encode the new features\n",
    "\tdf[\"siblings\"] = df.loc[:,\"SibSp\"].apply(lambda x: oneOrMore(x))\n",
    "\tdf[\"couple\"] = df.loc[:,\"Parch\"].apply(lambda x:singleOrCouple(x))\n",
    "\tdf[\"firstClass\"] = df.loc[:,\"Pclass\"].apply(lambda x:isClassMember(x, 1))\n",
    "\tdf[\"secondClass\"] = df.loc[:,\"Pclass\"].apply(lambda x:isClassMember(x, 2))\n",
    "\tdf[\"thirdClass\"] = df.loc[:,\"Pclass\"].apply(lambda x:isClassMember(x, 3))\n",
    "\t\n",
    "\t# drop the old ones\n",
    "\tdf = df.drop(labels=[\"Pclass\", \"SibSp\", \"Parch\"], axis=1)\n",
    " \n",
    "\treturn df"
   ]
  },
  {
   "cell_type": "code",
   "execution_count": 275,
   "metadata": {},
   "outputs": [],
   "source": [
    "def binAge(df:pd.DataFrame):\n",
    "\tage_bin = pd.cut(\n",
    "\t\tx=df.loc[:,\"Age\"],\n",
    "\t\tbins=[0,16,35,55,120],\n",
    "\t\tlabels=False\n",
    "\t)\n",
    "\n",
    "\tdef ageCategory(x:int, age:int):\n",
    "\t\tif x == age:\n",
    "\t\t\treturn 1\n",
    "\t\treturn 0\n",
    "\n",
    "\tdf[\"kid\"] = age_bin.apply(lambda x:ageCategory(x,0))\n",
    "\tdf[\"young_adult\"] = age_bin.apply(lambda x:ageCategory(x,1))\n",
    "\tdf[\"mature_adult\"] = age_bin.apply(lambda x:ageCategory(x,2))\n",
    "\tdf[\"senior\"] = age_bin.apply(lambda x:ageCategory(x,3))\n",
    "\tdf.drop(labels=[\"Age\"], axis=1, inplace=True)\n",
    " \n",
    "\treturn df"
   ]
  },
  {
   "cell_type": "code",
   "execution_count": 276,
   "metadata": {},
   "outputs": [],
   "source": [
    "def binFare(df:pd.DataFrame):\n",
    "\tdf[\"low_fare\"] = df.loc[:,\"Fare\"].apply(lambda x: 1 if x<20 else 0)\n",
    "\tdf[\"medium_fare\"] = df.loc[:,\"Fare\"].apply(lambda x: 1 if 20<=x<80 else 0)\n",
    "\tdf[\"high_fare\"] = df.loc[:,\"Fare\"].apply(lambda x: 1 if 80<=x else 0)\n",
    "\tdf.drop(labels=[\"Fare\"], axis=1, inplace=True)\n",
    " \n",
    "\treturn df"
   ]
  },
  {
   "cell_type": "code",
   "execution_count": 277,
   "metadata": {},
   "outputs": [],
   "source": [
    "def dfPipeline(df:pd.DataFrame):\n",
    "\tdf = cleanData(df)\n",
    "\tdf = featureEngineering_1(df)\n",
    "\tdf = binAge(df)\n",
    "\tdf = binFare(df)\n",
    "\t# df = scaleData(df)\n",
    "\treturn df"
   ]
  },
  {
   "attachments": {},
   "cell_type": "markdown",
   "metadata": {},
   "source": [
    "### Preprocess the data and save the results"
   ]
  },
  {
   "cell_type": "code",
   "execution_count": 285,
   "metadata": {},
   "outputs": [],
   "source": [
    "# Train dataset\n",
    "df_train = pd.read_csv(\n",
    "\tfilepath_or_buffer=\"datasets/train.csv\",\n",
    " index_col=0\n",
    ")\n",
    "\n",
    "df_train = dfPipeline(df_train)\n",
    "\n",
    "df_train.to_csv(path_or_buf=\"datasets/train_clean.csv\")\n",
    "\n",
    "# Test dataset\n",
    "df_test = pd.read_csv(\n",
    "\tfilepath_or_buffer=\"datasets/test.csv\",\n",
    " index_col=0\n",
    ")\n",
    "df_test = dfPipeline(df_test)\n",
    "\n",
    "df_test.to_csv(path_or_buf=\"datasets/test_clean.csv\")"
   ]
  },
  {
   "cell_type": "code",
   "execution_count": 279,
   "metadata": {},
   "outputs": [],
   "source": [
    "# Clean and scale the data\n",
    "df = dfPipeline(df)\n",
    "# create the features and target datasets\n",
    "features = df.copy()\n",
    "features.drop(labels=\"Survived\", axis=1, inplace=True)\n",
    "target = df.loc[:,\"Survived\"].copy()\n",
    "# create the train and test datasets\n",
    "x_train, x_test, y_train, y_test = train_test_split(features, target, test_size=0.25, random_state=42)"
   ]
  },
  {
   "cell_type": "code",
   "execution_count": 280,
   "metadata": {},
   "outputs": [
    {
     "data": {
      "text/html": [
       "<div>\n",
       "<style scoped>\n",
       "    .dataframe tbody tr th:only-of-type {\n",
       "        vertical-align: middle;\n",
       "    }\n",
       "\n",
       "    .dataframe tbody tr th {\n",
       "        vertical-align: top;\n",
       "    }\n",
       "\n",
       "    .dataframe thead th {\n",
       "        text-align: right;\n",
       "    }\n",
       "</style>\n",
       "<table border=\"1\" class=\"dataframe\">\n",
       "  <thead>\n",
       "    <tr style=\"text-align: right;\">\n",
       "      <th></th>\n",
       "      <th>Survived</th>\n",
       "      <th>Sex_female</th>\n",
       "      <th>Sex_male</th>\n",
       "      <th>Embarked_C</th>\n",
       "      <th>Embarked_Q</th>\n",
       "      <th>Embarked_S</th>\n",
       "      <th>siblings</th>\n",
       "      <th>couple</th>\n",
       "      <th>firstClass</th>\n",
       "      <th>secondClass</th>\n",
       "      <th>thirdClass</th>\n",
       "      <th>kid</th>\n",
       "      <th>young_adult</th>\n",
       "      <th>mature_adult</th>\n",
       "      <th>senior</th>\n",
       "      <th>low_fare</th>\n",
       "      <th>medium_fare</th>\n",
       "      <th>high_fare</th>\n",
       "    </tr>\n",
       "    <tr>\n",
       "      <th>PassengerId</th>\n",
       "      <th></th>\n",
       "      <th></th>\n",
       "      <th></th>\n",
       "      <th></th>\n",
       "      <th></th>\n",
       "      <th></th>\n",
       "      <th></th>\n",
       "      <th></th>\n",
       "      <th></th>\n",
       "      <th></th>\n",
       "      <th></th>\n",
       "      <th></th>\n",
       "      <th></th>\n",
       "      <th></th>\n",
       "      <th></th>\n",
       "      <th></th>\n",
       "      <th></th>\n",
       "      <th></th>\n",
       "    </tr>\n",
       "  </thead>\n",
       "  <tbody>\n",
       "    <tr>\n",
       "      <th>1</th>\n",
       "      <td>0</td>\n",
       "      <td>0</td>\n",
       "      <td>1</td>\n",
       "      <td>0</td>\n",
       "      <td>0</td>\n",
       "      <td>1</td>\n",
       "      <td>1</td>\n",
       "      <td>0</td>\n",
       "      <td>0</td>\n",
       "      <td>0</td>\n",
       "      <td>1</td>\n",
       "      <td>0</td>\n",
       "      <td>1</td>\n",
       "      <td>0</td>\n",
       "      <td>0</td>\n",
       "      <td>1</td>\n",
       "      <td>0</td>\n",
       "      <td>0</td>\n",
       "    </tr>\n",
       "    <tr>\n",
       "      <th>2</th>\n",
       "      <td>1</td>\n",
       "      <td>1</td>\n",
       "      <td>0</td>\n",
       "      <td>1</td>\n",
       "      <td>0</td>\n",
       "      <td>0</td>\n",
       "      <td>1</td>\n",
       "      <td>0</td>\n",
       "      <td>1</td>\n",
       "      <td>0</td>\n",
       "      <td>0</td>\n",
       "      <td>0</td>\n",
       "      <td>0</td>\n",
       "      <td>1</td>\n",
       "      <td>0</td>\n",
       "      <td>0</td>\n",
       "      <td>1</td>\n",
       "      <td>0</td>\n",
       "    </tr>\n",
       "    <tr>\n",
       "      <th>3</th>\n",
       "      <td>1</td>\n",
       "      <td>1</td>\n",
       "      <td>0</td>\n",
       "      <td>0</td>\n",
       "      <td>0</td>\n",
       "      <td>1</td>\n",
       "      <td>0</td>\n",
       "      <td>0</td>\n",
       "      <td>0</td>\n",
       "      <td>0</td>\n",
       "      <td>1</td>\n",
       "      <td>0</td>\n",
       "      <td>1</td>\n",
       "      <td>0</td>\n",
       "      <td>0</td>\n",
       "      <td>1</td>\n",
       "      <td>0</td>\n",
       "      <td>0</td>\n",
       "    </tr>\n",
       "    <tr>\n",
       "      <th>4</th>\n",
       "      <td>1</td>\n",
       "      <td>1</td>\n",
       "      <td>0</td>\n",
       "      <td>0</td>\n",
       "      <td>0</td>\n",
       "      <td>1</td>\n",
       "      <td>1</td>\n",
       "      <td>0</td>\n",
       "      <td>1</td>\n",
       "      <td>0</td>\n",
       "      <td>0</td>\n",
       "      <td>0</td>\n",
       "      <td>1</td>\n",
       "      <td>0</td>\n",
       "      <td>0</td>\n",
       "      <td>0</td>\n",
       "      <td>1</td>\n",
       "      <td>0</td>\n",
       "    </tr>\n",
       "    <tr>\n",
       "      <th>5</th>\n",
       "      <td>0</td>\n",
       "      <td>0</td>\n",
       "      <td>1</td>\n",
       "      <td>0</td>\n",
       "      <td>0</td>\n",
       "      <td>1</td>\n",
       "      <td>0</td>\n",
       "      <td>0</td>\n",
       "      <td>0</td>\n",
       "      <td>0</td>\n",
       "      <td>1</td>\n",
       "      <td>0</td>\n",
       "      <td>1</td>\n",
       "      <td>0</td>\n",
       "      <td>0</td>\n",
       "      <td>1</td>\n",
       "      <td>0</td>\n",
       "      <td>0</td>\n",
       "    </tr>\n",
       "  </tbody>\n",
       "</table>\n",
       "</div>"
      ],
      "text/plain": [
       "             Survived  Sex_female  Sex_male  Embarked_C  Embarked_Q  \\\n",
       "PassengerId                                                           \n",
       "1                   0           0         1           0           0   \n",
       "2                   1           1         0           1           0   \n",
       "3                   1           1         0           0           0   \n",
       "4                   1           1         0           0           0   \n",
       "5                   0           0         1           0           0   \n",
       "\n",
       "             Embarked_S  siblings  couple  firstClass  secondClass  \\\n",
       "PassengerId                                                          \n",
       "1                     1         1       0           0            0   \n",
       "2                     0         1       0           1            0   \n",
       "3                     1         0       0           0            0   \n",
       "4                     1         1       0           1            0   \n",
       "5                     1         0       0           0            0   \n",
       "\n",
       "             thirdClass  kid  young_adult  mature_adult  senior  low_fare  \\\n",
       "PassengerId                                                                 \n",
       "1                     1    0            1             0       0         1   \n",
       "2                     0    0            0             1       0         0   \n",
       "3                     1    0            1             0       0         1   \n",
       "4                     0    0            1             0       0         0   \n",
       "5                     1    0            1             0       0         1   \n",
       "\n",
       "             medium_fare  high_fare  \n",
       "PassengerId                          \n",
       "1                      0          0  \n",
       "2                      1          0  \n",
       "3                      0          0  \n",
       "4                      1          0  \n",
       "5                      0          0  "
      ]
     },
     "execution_count": 280,
     "metadata": {},
     "output_type": "execute_result"
    }
   ],
   "source": [
    "df.head()"
   ]
  },
  {
   "attachments": {},
   "cell_type": "markdown",
   "metadata": {},
   "source": [
    "### Neural network"
   ]
  },
  {
   "cell_type": "code",
   "execution_count": 281,
   "metadata": {},
   "outputs": [
    {
     "name": "stdout",
     "output_type": "stream",
     "text": [
      "The best validation accuray is = 0.878923773765564\n",
      "The mean validation accuray is = 0.8766816258430481\n",
      "The mean accuray is = 0.8506172835826874\n"
     ]
    },
    {
     "data": {
      "image/png": "[encoded data removed]",
      "text/plain": [
       "<Figure size 640x480 with 1 Axes>"
      ]
     },
     "metadata": {},
     "output_type": "display_data"
    }
   ],
   "source": [
    "INPUT_SHAPE = [len(x_train.columns)]\n",
    "X=features\n",
    "Y=target\n",
    "# x=x_train\n",
    "# y=y_train\n",
    "\n",
    "model = keras.Sequential([\n",
    "\tlayers.Dense(units = 256, input_shape = INPUT_SHAPE, activation=\"relu\"),\n",
    "\t# layers.BatchNormalization(),\n",
    "\tlayers.Dropout(0.3),\n",
    " \tlayers.Dense(units = 512, activation=\"relu\"),\n",
    "\t# layers.BatchNormalization(),\n",
    "\tlayers.Dropout(0.3),\n",
    "  \tlayers.Dense(units = 256, activation=\"relu\"),\n",
    "\t# layers.BatchNormalization(),\n",
    "\tlayers.Dropout(0.3),\n",
    "\tlayers.Dense(units = 1, activation = \"sigmoid\")\n",
    "])\n",
    "\n",
    "model.compile(\n",
    "\toptimizer=\"adam\",\n",
    "\tloss=\"binary_crossentropy\",\n",
    "\tmetrics=[\"binary_accuracy\"],\n",
    ")\n",
    "\n",
    "early_stopping = EarlyStopping(\n",
    "\tpatience = 50,\n",
    " \tmin_delta = 0.01,\n",
    "\trestore_best_weights = True,\n",
    ")\n",
    "\n",
    "# train the model\n",
    "training_history = model.fit(\n",
    "\tx=X,\n",
    "\ty=Y,\n",
    "\tvalidation_data = (\n",
    "\t\tx_test,\n",
    "\t\ty_test,\n",
    "\t),\n",
    "\tbatch_size = 256,\n",
    "\tepochs = 100,\n",
    " \tcallbacks = [early_stopping],\n",
    "\tverbose = False,\n",
    ")\n",
    "\n",
    "# see the training history\n",
    "history_df = pd.DataFrame(training_history.history)\n",
    "history_df.loc[10:,:].plot()\n",
    "best_val_acc = history_df.loc[:,\"val_binary_accuracy\"].max()\n",
    "print(f\"The best validation accuray is = {best_val_acc}\")\n",
    "mean_val_acc = history_df.iloc[-10:,3].mean()\n",
    "print(f\"The mean validation accuray is = {mean_val_acc}\")\n",
    "mean_val_acc = history_df.iloc[-10:,1].mean()\n",
    "print(f\"The mean accuray is = {mean_val_acc}\")"
   ]
  },
  {
   "cell_type": "code",
   "execution_count": 282,
   "metadata": {},
   "outputs": [
    {
     "data": {
      "text/plain": [
       "'\\nThe best validation accuray is = 0.878923773765564\\nThe mean validation accuray is = 0.8739910423755646\\nThe mean accuray is = 0.8562289535999298\\n'"
      ]
     },
     "execution_count": 282,
     "metadata": {},
     "output_type": "execute_result"
    }
   ],
   "source": [
    "'''\n",
    "The best validation accuray is = 0.878923773765564\n",
    "The mean validation accuray is = 0.8739910423755646\n",
    "The mean accuray is = 0.8562289535999298\n",
    "'''"
   ]
  },
  {
   "attachments": {},
   "cell_type": "markdown",
   "metadata": {},
   "source": [
    "<h3>Make a prediction for the competition</h3>"
   ]
  },
  {
   "cell_type": "code",
   "execution_count": 283,
   "metadata": {},
   "outputs": [
    {
     "name": "stdout",
     "output_type": "stream",
     "text": [
      "14/14 [==============================] - 0s 768us/step\n"
     ]
    },
    {
     "name": "stderr",
     "output_type": "stream",
     "text": [
      "/var/folders/sg/d2yjkd7s22zcny48m8_01qpm0000gn/T/ipykernel_17720/3825112789.py:21: DeprecationWarning: In a future version, `df.iloc[:, i] = newvals` will attempt to set the values inplace instead of always setting a new array. To retain the old behavior, use either `df[df.columns[i]] = newvals` or, if columns are non-unique, `df.isetitem(i, newvals)`\n",
      "  prediction.loc[:,\"Survived\"] = prediction.loc[:,\"Survived\"].apply(lambda x:round(x))\n"
     ]
    }
   ],
   "source": [
    "# Load the Dataset\n",
    "df = pd.read_csv(filepath_or_buffer=\"datasets/test.csv\", index_col=0)\n",
    "\n",
    "# Save the index\n",
    "resDic = {\"PassengerId\": df.index}\n",
    "\n",
    "# Clean and scale the data\n",
    "df = dfPipeline(df)\n",
    "\n",
    "# make the prediction\n",
    "temp = model.predict(df)\n",
    "pred = []\n",
    "for arr in temp:\n",
    "    pred.append(arr[0])\n",
    "resDic[\"Survived\"] = pred\n",
    "\n",
    "# save it in a DataFrame\n",
    "prediction = pd.DataFrame(data=resDic)\n",
    "\n",
    "# make the prediction an integer\n",
    "prediction.loc[:,\"Survived\"] = prediction.loc[:,\"Survived\"].apply(lambda x:round(x))\n",
    "\n",
    "# save the prediction\n",
    "prediction.to_csv(path_or_buf=\"datasets/predictionNN_feat_eng.csv\", index=False)"
   ]
  },
  {
   "cell_type": "code",
   "execution_count": null,
   "metadata": {},
   "outputs": [],
   "source": []
  }
 ],
 "metadata": {
  "kernelspec": {
   "display_name": ".venv",
   "language": "python",
   "name": "python3"
  },
  "language_info": {
   "codemirror_mode": {
    "name": "ipython",
    "version": 3
   },
   "file_extension": ".py",
   "mimetype": "text/x-python",
   "name": "python",
   "nbconvert_exporter": "python",
   "pygments_lexer": "ipython3",
   "version": "3.10.7"
  },
  "orig_nbformat": 4,
  "vscode": {
   "interpreter": {
    "hash": "0ace9aa8434a9d5c5c6a8052162ba46c76a6a3f3d25e308a1c145b34237d17b0"
   }
  }
 },
 "nbformat": 4,
 "nbformat_minor": 2
}
